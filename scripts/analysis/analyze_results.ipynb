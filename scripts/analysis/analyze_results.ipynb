{
 "cells": [
  {
   "cell_type": "code",
   "execution_count": 199,
   "metadata": {},
   "outputs": [],
   "source": [
    "# for object questions\n",
    "film_pth = '/data/c/zhuowan/Clevr/film/analysis/film_predictions.json'\n",
    "# film_pth = '/data/c/zhuowan/Clevr/film/analysis/film_cnnlstm_predictions.json'\n",
    "nscl_pth = '/home/zhuowan/zhuowan_ccvl19/Clevr/NSCL-PyTorch-Release/analysis/nscl_predictions.json'\n",
    "mdetr_pth = '/home/zhuowan/zhuowan_ccvl19/Clevr/mdetr/analysis/mdetr_predictions.json'\n",
    "question_pth = '/data/c/zhuowan/SuperClevr/super-clevr/output/ver_mask/sliced/superCLEVR_questions_test_50k.json'\n",
    "\n",
    "question_types = {'query': ['query_shape', 'query_size', 'query_color', 'query_material'],\n",
    "                 'equal': ['equal_shape', 'equal_size', 'equal_color', 'equal_material'],\n",
    "                 'compare': ['equal_integer', 'greater_than', 'less_than'],\n",
    "                 'count': ['count'],\n",
    "                 'exist': ['exist']}"
   ]
  },
  {
   "cell_type": "code",
   "execution_count": 220,
   "metadata": {},
   "outputs": [],
   "source": [
    "# for part questions\n",
    "# film_pth = '/data/c/zhuowan/Clevr/film/analysis/film_part_predictions.json'\n",
    "film_pth = '/data/c/zhuowan/Clevr/film/analysis/film_lstm_part_predictions.json'\n",
    "nscl_pth = '/home/zhuowan/zhuowan_ccvl19/Clevr/NSCL-PyTorch-Release/analysis/nscl_part_predictions.json'\n",
    "mdetr_pth = '/home/zhuowan/zhuowan_ccvl19/Clevr/mdetr/analysis/mdetr_part_predictions.json'\n",
    "question_pth = '/data/c/zhuowan/SuperClevr/super-clevr/output/ver_mask/sliced/superCLEVR_questions_test_part_50k.json'\n",
    "\n",
    "question_types = {'query': ['query_shape', 'query_color', 'query_material'],\n",
    "                 'partquery': ['partquery_partname', 'partquery_color', 'partquery_material']}"
   ]
  },
  {
   "cell_type": "code",
   "execution_count": 221,
   "metadata": {},
   "outputs": [
    {
     "name": "stdout",
     "output_type": "stream",
     "text": [
      "50000\n",
      "50000\n",
      "50000\n"
     ]
    }
   ],
   "source": [
    "import json\n",
    "prediction_jsons = []\n",
    "for pth in [film_pth, nscl_pth, mdetr_pth]:\n",
    "    prediction_jsons.append(json.load(open(pth, 'r')))\n",
    "    print(len(prediction_jsons[-1]))\n",
    "assert(len(prediction_jsons[0]) == len(prediction_jsons[1]))\n",
    "assert(len(prediction_jsons[2]) == len(prediction_jsons[1]))\n",
    "orig_predictions = []\n",
    "for i in range(len(prediction_jsons[0])):\n",
    "    orig_predictions.append({'film':prediction_jsons[0][i]['prediction'],\n",
    "                      'nscl':prediction_jsons[1][i]['prediction'],\n",
    "                      'mdetr':prediction_jsons[2][i]['prediction']})\n",
    "    \n",
    "questions = json.load(open(question_pth, 'r'))['questions']\n",
    "for i,q in enumerate(questions):\n",
    "    orig_predictions[i]['answer'] = q['answer']\n",
    "    orig_predictions[i]['question'] = q['question']\n",
    "    orig_predictions[i]['image_filename'] = q['image_filename']\n",
    "    orig_predictions[i]['type'] = q['program'][-1]['type']"
   ]
  },
  {
   "cell_type": "code",
   "execution_count": 222,
   "metadata": {},
   "outputs": [],
   "source": [
    "from copy import deepcopy\n",
    "predictions = deepcopy(orig_predictions)\n",
    "for p in predictions:\n",
    "    if type(p['answer']) == bool:\n",
    "        p['nscl'] = {1: True, 0:False}.get(p['nscl'], p['nscl'])\n",
    "        p['film'] = {'yes':True, 'no':False}.get(p['film'], p['film'])\n",
    "        p['mdetr'] = {'yes':True, 'no':False}.get(p['mdetr'], p['mdetr'])\n",
    "    elif type(p['answer']) == str:\n",
    "        # object questions\n",
    "#         p['film'] = p['film'].split('_')[0]\n",
    "#         p['mdetr'] = p['mdetr'].split(' ')[0]\n",
    "#         p['answer'] = p['answer'].split(' ')[0]\n",
    "        # part questions\n",
    "        p['film'] = p['film'].replace('_', ' ')\n",
    "        p['nscl'] = p['nscl'].replace('_', ' ')\n",
    "        p['mdetr'] = p['mdetr'].replace('_', ' ')\n",
    "    elif type(p['answer']) == int:\n",
    "        for k in ['film', 'nscl', 'mdetr', 'answer']:\n",
    "            p[k] = str(p[k])\n",
    "    else:\n",
    "        pass"
   ]
  },
  {
   "cell_type": "code",
   "execution_count": 223,
   "metadata": {},
   "outputs": [
    {
     "name": "stdout",
     "output_type": "stream",
     "text": [
      "red , brown\n",
      "small , front wheel\n",
      "rubber , rubber\n",
      "red , green\n",
      "small , airliner\n",
      "red , yellow\n",
      "small , back right door\n",
      "rubber , metal\n",
      "rubber , rubber\n",
      "red , blue\n",
      "small , back wheel\n",
      "rubber , metal\n",
      "red , red\n",
      "small , minivan\n",
      "red , cyan\n",
      "small , back fender\n",
      "rubber , rubber\n",
      "rubber , metal\n",
      "red , yellow\n",
      "small , roof\n",
      "rubber , rubber\n",
      "red , green\n",
      "small , fighter\n",
      "red , red\n",
      "small , roof\n",
      "rubber , rubber\n",
      "rubber , metal\n",
      "red , yellow\n",
      "small , front right door\n",
      "rubber , metal\n",
      "red , red\n",
      "small , suv\n",
      "red , gray\n",
      "small , back right door\n",
      "rubber , rubber\n",
      "rubber , rubber\n",
      "red , brown\n",
      "small , fork\n",
      "rubber , metal\n",
      "red , red\n",
      "small , road bike\n",
      "red , brown\n",
      "small , right tail light\n",
      "rubber , rubber\n",
      "rubber , rubber\n",
      "red , yellow\n",
      "small , back cover\n",
      "rubber , metal\n",
      "red , cyan\n",
      "small , articulated bus\n",
      "red , purple\n",
      "small , left engine\n",
      "rubber , metal\n",
      "rubber , metal\n",
      "red , purple\n",
      "small , back left wheel\n",
      "rubber , metal\n",
      "red , gray\n",
      "small , chopper\n",
      "red , brown\n",
      "small , roof\n",
      "rubber , metal\n",
      "rubber , rubber\n",
      "red , cyan\n",
      "small , trunk\n",
      "rubber , metal\n",
      "red , red\n",
      "small , articulated bus\n",
      "red , yellow\n",
      "small , left wing\n"
     ]
    }
   ],
   "source": [
    "for i in range(30,100):\n",
    "    print(predictions[i]['film'], ',', predictions[i]['answer'])"
   ]
  },
  {
   "cell_type": "code",
   "execution_count": 202,
   "metadata": {},
   "outputs": [],
   "source": [
    "counter = {}\n",
    "for st in question_types:\n",
    "    for t in question_types[st]: \n",
    "        counter[t] = {'film':0, 'nscl':0, 'mdetr':0, 'answer':0}\n",
    "counter['all'] = {'film':0, 'nscl':0, 'mdetr':0, 'answer':0}\n",
    "\n",
    "for p in predictions:\n",
    "    for k in ['film', 'nscl', 'mdetr']:\n",
    "        if p[k] == p['answer']:\n",
    "            counter[p['type']][k] += 1\n",
    "            counter['all'][k] += 1\n",
    "    counter[p['type']]['answer'] += 1\n",
    "    counter['all']['answer'] += 1\n"
   ]
  },
  {
   "cell_type": "code",
   "execution_count": 203,
   "metadata": {},
   "outputs": [
    {
     "name": "stdout",
     "output_type": "stream",
     "text": [
      "query_shape, 14.60, 80.67, 80.85\n",
      "query_size, 56.32, 95.83, 97.10\n",
      "query_color, 27.19, 88.42, 86.29\n",
      "query_material, 54.08, 90.60, 91.76\n",
      "equal_shape, 52.72, 86.96, 79.96\n",
      "equal_size, 51.65, 95.54, 69.73\n",
      "equal_color, 53.21, 91.25, 63.48\n",
      "equal_material, 52.54, 86.61, 48.66\n",
      "equal_integer, 54.66, 91.44, 85.93\n",
      "greater_than, 68.37, 94.01, 92.62\n",
      "less_than, 75.29, 93.85, 93.97\n",
      "count, 47.67, 85.09, 79.23\n",
      "exist, 62.08, 92.43, 88.53\n",
      "all, 48.87, 89.09, 82.65\n"
     ]
    }
   ],
   "source": [
    "for t in counter:\n",
    "    print(t+',',', '.join(['%.2f' % (float(counter[t][k])/counter[t]['answer']*100) for k in ['film', 'nscl', 'mdetr']]))\n",
    "#     print(t, [(counter[t][k], counter[t]['answer']) for k in ['film', 'nscl', 'mdetr']])"
   ]
  },
  {
   "cell_type": "code",
   "execution_count": 98,
   "metadata": {},
   "outputs": [],
   "source": [
    "# random and freq baseline\n",
    "\n",
    "from collections import Counter\n",
    "all_question_pth = '/data/c/zhuowan/SuperClevr/super-clevr/output/ver_mask/questions/superCLEVR_questions_merged.json'\n",
    "all_question_pth = '/data/c/zhuowan/SuperClevr/super-clevr/output/ver_mask/questions/superCLEVR_questions_part_partquery.json'\n",
    "\n",
    "question_types = {'query': ['query_shape', 'query_size', 'query_color', 'query_material'],\n",
    "                 'equal': ['equal_shape', 'equal_size', 'equal_color', 'equal_material'],\n",
    "                 'compare': ['equal_integer', 'greater_than', 'less_than'],\n",
    "                 'count': ['count'],\n",
    "                 'exist': ['exist']}\n",
    "question_types = {'query': ['query_shape', 'query_color', 'query_material'],\n",
    "                 'partquery': ['partquery_partname', 'partquery_color', 'partquery_material']}\n",
    "\n",
    "# all_questions = json.load(open(all_question_pth, 'r'))['questions']\n",
    "\n",
    "answer_set = {}\n",
    "for st in question_types:\n",
    "    for t in question_types[st]: \n",
    "        answer_set[t] = Counter()\n",
    "        \n",
    "for q in all_questions:\n",
    "    q_type = q['program'][-1]['type']\n",
    "    answer_set[q_type][q['answer']] += 1"
   ]
  },
  {
   "cell_type": "code",
   "execution_count": 100,
   "metadata": {},
   "outputs": [],
   "source": [
    "import random \n",
    "\n",
    "# question_pth = '/data/c/zhuowan/SuperClevr/super-clevr/output/ver_mask/sliced/superCLEVR_questions_test_50k.json'\n",
    "question_pth = '/data/c/zhuowan/SuperClevr/super-clevr/output/ver_mask/sliced/superCLEVR_questions_test_part_50k.json'\n",
    "questions = json.load(open(question_pth, 'r'))['questions']\n",
    "for q in questions:\n",
    "    q_type = q['program'][-1]['type']\n",
    "    ans = answer_set[q_type].most_common()[0][0]\n",
    "    q['freq_answer'] = ans\n",
    "    ans = random.choice(list(answer_set[q_type].keys()))\n",
    "    q['random_answer'] = ans\n",
    "    q['type'] = q_type\n",
    "    \n",
    "counter = {}\n",
    "for st in question_types:\n",
    "    for t in question_types[st]: \n",
    "        counter[t] = {'freq_answer':0, 'random_answer':0, 'answer':0}\n",
    "counter['all'] = {'freq_answer':0, 'random_answer':0, 'answer':0}\n",
    "\n",
    "for p in questions:\n",
    "    for k in ['freq_answer', 'random_answer']:\n",
    "        if p[k] == p['answer']:\n",
    "            counter[p['type']][k] += 1\n",
    "            counter['all'][k] += 1\n",
    "    counter[p['type']]['answer'] += 1\n",
    "    counter['all']['answer'] += 1\n",
    "    "
   ]
  },
  {
   "cell_type": "code",
   "execution_count": 101,
   "metadata": {},
   "outputs": [
    {
     "name": "stdout",
     "output_type": "stream",
     "text": [
      "query_shape, 4.95, 4.64\n",
      "query_color, 12.99, 12.43\n",
      "query_material, 50.15, 49.00\n",
      "partquery_partname, 5.34, 1.49\n",
      "partquery_color, 12.91, 12.31\n",
      "partquery_material, 50.15, 49.44\n",
      "all, 22.75, 21.38\n"
     ]
    }
   ],
   "source": [
    "for t in counter:\n",
    "    print(t+',',', '.join(['%.2f' % (float(counter[t][k])/counter[t]['answer']*100) for k in ['freq_answer', 'random_answer']]))\n",
    "#     print(t, [(counter[t][k], counter[t]['answer']) for k in ['film', 'nscl', 'mdetr']])"
   ]
  },
  {
   "cell_type": "code",
   "execution_count": 241,
   "metadata": {},
   "outputs": [],
   "source": [
    "# human annotation\n",
    "\n",
    "\n",
    "obj_question_json_pth = '/data/c/zhuowan/SuperClevr/super-clevr/human_study/data/ver_mask/questions/superCLEVR_questions_merged.json'\n",
    "prt_question_json_pth = '/data/c/zhuowan/SuperClevr/super-clevr/human_study/data/ver_mask/questions/superCLEVR_questions_part_partquery.json'\n",
    "info_obj_pth = '/data/c/zhuowan/SuperClevr/super-clevr/human_study/data/obj_questions.json'\n",
    "info_prt_pth = '/data/c/zhuowan/SuperClevr/super-clevr/human_study/data/prt_questions.json'\n",
    "anno_json_pth = '/data/c/zhuowan/SuperClevr/super-clevr/human_study/data/human_results.json'\n",
    "num_examples = 1000\n",
    "\n",
    "obj_questions = json.load(open(obj_question_json_pth, 'r'))['questions']\n",
    "prt_questions = json.load(open(prt_question_json_pth, 'r'))['questions']\n",
    "info_obj = json.load(open(info_obj_pth, 'r'))\n",
    "info_prt = json.load(open(info_prt_pth, 'r'))\n",
    "\n",
    "N_O = 2\n",
    "N_P = 1\n",
    "\n",
    "obj_human_questions = []\n",
    "prt_human_questions = []\n",
    "for num in range(num_examples):\n",
    "    for no in range(N_O):\n",
    "        id = N_O*num + no\n",
    "        q = obj_questions[info_obj['all_question_ids'][id]]\n",
    "        assert(q['answer'] == info_obj['answers'][id])\n",
    "        obj_human_questions.append(q)\n",
    "        prt_human_questions.append({})\n",
    "    for np in range(N_P):\n",
    "        id = N_P*num + np\n",
    "        q = prt_questions[info_prt['all_question_ids'][id]]\n",
    "        assert(q['answer'] == info_prt['answers'][id])\n",
    "        obj_human_questions.append({})\n",
    "        prt_human_questions.append(q)    "
   ]
  },
  {
   "cell_type": "code",
   "execution_count": 242,
   "metadata": {
    "scrolled": true
   },
   "outputs": [
    {
     "name": "stdout",
     "output_type": "stream",
     "text": [
      "         query_shape,  63.16, \t  21.05, \t 12, \t 4, \t 19\n",
      "          query_size,  70.83, \t  16.67, \t 17, \t 4, \t 24\n",
      "         query_color,  65.38, \t   7.69, \t 17, \t 2, \t 26\n",
      "      query_material,  78.26, \t   4.35, \t 18, \t 1, \t 23\n",
      "         equal_shape,  84.21, \t   0.00, \t 16, \t 0, \t 19\n",
      "          equal_size,  68.75, \t   6.25, \t 11, \t 1, \t 16\n",
      "         equal_color,  66.67, \t  16.67, \t 8, \t 2, \t 12\n",
      "      equal_material,  57.14, \t   0.00, \t 8, \t 0, \t 14\n",
      "       equal_integer,  20.00, \t   0.00, \t 1, \t 0, \t 5\n",
      "        greater_than,  75.00, \t   0.00, \t 9, \t 0, \t 12\n",
      "           less_than,  50.00, \t  25.00, \t 2, \t 1, \t 4\n",
      "               count,  57.14, \t   0.00, \t 36, \t 0, \t 63\n",
      "               exist,  70.21, \t   6.38, \t 33, \t 3, \t 47\n",
      "                 all,  66.20, \t   6.34, \t 188, \t 18, \t 284\n",
      "\n",
      "\n",
      "\n",
      "         query_shape,  83.33, \t   0.00, \t 20, \t 0, \t 24\n",
      "         query_color,  75.00, \t   0.00, \t 12, \t 0, \t 16\n",
      "      query_material,  71.43, \t   0.00, \t 10, \t 0, \t 14\n",
      "  partquery_partname,  37.84, \t  18.92, \t 14, \t 7, \t 37\n",
      "     partquery_color,  56.00, \t   4.00, \t 14, \t 1, \t 25\n",
      "  partquery_material,  57.14, \t  17.86, \t 16, \t 5, \t 28\n",
      "                 all,  59.72, \t   9.03, \t 86, \t 13, \t 144\n",
      "\n",
      "\n",
      "\n"
     ]
    }
   ],
   "source": [
    "anno_results = json.load(open(anno_json_pth, 'r'))\n",
    "predictions = []\n",
    "for anno in anno_results:\n",
    "    if anno['class'][0]['taxonomy'][0][0] == 'Can\\'t tell':\n",
    "        human_ans = '-1'\n",
    "    else:\n",
    "        human_ans = anno['class'][0]['taxonomy'][0][-1].split(':')[-1].strip()\n",
    "    anno_id = anno['id']\n",
    "    if anno_id % 3 != 0:\n",
    "        human_question = obj_human_questions[anno_id-1]\n",
    "        is_part = 'obj'\n",
    "    else:\n",
    "        human_question = prt_human_questions[anno_id-1]\n",
    "        is_part = 'prt'\n",
    "    q_type = human_question['program'][-1]['type']\n",
    "    answer = str(human_question['answer'])\n",
    "    answer = {'True': 'yes', 'False': 'no'}.get(answer, answer)\n",
    "    q = human_question['question']\n",
    "    image = human_question['image']\n",
    "    predictions.append({'human': str(human_ans), 'type': q_type, 'answer':answer, 'is_part':is_part, 'question':q, 'image':image})\n",
    "\n",
    "\n",
    "obj_question_types = {'query': ['query_shape', 'query_size', 'query_color', 'query_material'],\n",
    "                 'equal': ['equal_shape', 'equal_size', 'equal_color', 'equal_material'],\n",
    "                 'compare': ['equal_integer', 'greater_than', 'less_than'],\n",
    "                 'count': ['count'],\n",
    "                 'exist': ['exist']}\n",
    "prt_question_types = {'query': ['query_shape', 'query_color', 'query_material'],\n",
    "                 'partquery': ['partquery_partname', 'partquery_color', 'partquery_material']}\n",
    "      \n",
    "for question_types, is_part in zip([obj_question_types, prt_question_types], ['obj', 'prt']):\n",
    "    counter = {}\n",
    "    for st in question_types:\n",
    "        for t in question_types[st]: \n",
    "            counter[t] = {'human':0, 'no_idea':0, 'answer':0}\n",
    "    counter['all'] = {'human':0, 'no_idea':0, 'answer':0}\n",
    "\n",
    "    for p in predictions:\n",
    "        if p['is_part'] != is_part:\n",
    "            continue\n",
    "        for k in ['human']:\n",
    "    #         if p['type'] == 'count':\n",
    "    #             print(p[k],p['answer'])\n",
    "            if p[k] == p['answer']:\n",
    "                counter[p['type']][k] += 1\n",
    "                counter['all'][k] += 1\n",
    "            elif p[k] == '-1':\n",
    "                counter[p['type']]['no_idea'] += 1\n",
    "                counter['all']['no_idea'] += 1\n",
    "        counter[p['type']]['answer'] += 1\n",
    "        counter['all']['answer'] += 1    \n",
    "\n",
    "    for t in counter:\n",
    "        correct_rate = float(counter[t]['human'])/counter[t]['answer']*100\n",
    "        noidea_rate = float(counter[t]['no_idea'])/counter[t]['answer']*100\n",
    "        print('%20s, %6.2f, \\t %6.2f, \\t %d, \\t %d, \\t %d' % (t, correct_rate, noidea_rate, counter[t]['human'], counter[t]['no_idea'], counter[t]['answer']))\n",
    "\n",
    "    print('\\n\\n')\n"
   ]
  },
  {
   "cell_type": "code",
   "execution_count": 243,
   "metadata": {},
   "outputs": [
    {
     "data": {
      "text/plain": [
       "{'human': 'metal',\n",
       " 'type': 'query_material',\n",
       " 'answer': 'metal',\n",
       " 'is_part': 'prt',\n",
       " 'question': 'What is the material of the blue thing that has a yellow tail light?',\n",
       " 'image': 'superCLEVR_new_014740'}"
      ]
     },
     "execution_count": 243,
     "metadata": {},
     "output_type": "execute_result"
    }
   ],
   "source": [
    "predictions[0]"
   ]
  },
  {
   "cell_type": "code",
   "execution_count": 244,
   "metadata": {},
   "outputs": [],
   "source": [
    "with open('human_results.json','w') as f:\n",
    "    json.dump(predictions, f)"
   ]
  },
  {
   "cell_type": "code",
   "execution_count": null,
   "metadata": {},
   "outputs": [],
   "source": []
  }
 ],
 "metadata": {
  "kernelspec": {
   "display_name": "Python 3.7.5 64-bit ('py36': conda)",
   "language": "python",
   "name": "python37564bitpy36condaa3535759d8434161b590ac552184d5fa"
  },
  "language_info": {
   "codemirror_mode": {
    "name": "ipython",
    "version": 3
   },
   "file_extension": ".py",
   "mimetype": "text/x-python",
   "name": "python",
   "nbconvert_exporter": "python",
   "pygments_lexer": "ipython3",
   "version": "3.8.1"
  }
 },
 "nbformat": 4,
 "nbformat_minor": 4
}
