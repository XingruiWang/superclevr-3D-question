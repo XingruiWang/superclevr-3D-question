{
 "cells": [
  {
   "cell_type": "code",
   "execution_count": 1,
   "metadata": {},
   "outputs": [],
   "source": [
    "import numpy as np\n",
    "import json\n",
    "import matplotlib.pyplot as plt\n",
    "import seaborn as sns"
   ]
  },
  {
   "cell_type": "code",
   "execution_count": 2,
   "metadata": {},
   "outputs": [],
   "source": [
    "visual_res = [[[59.96, 53.95, 50.66],\n",
    "        [57.41, 53.28, 50.18],\n",
    "        [55.95, 53.11, 50.47]],\n",
    "        [[95.13, 92.31, 90.81],\n",
    "        [84.5, 89.1, 86.33],\n",
    "        [76.85, 78.66, 85.08]],\n",
    "        [[93.36, 84.3, 82.97],\n",
    "        [83.34, 82.36, 81.27],\n",
    "        [79.71, 79.94, 80.71]]]\n",
    "visual_res = np.array(visual_res)"
   ]
  },
  {
   "cell_type": "code",
   "execution_count": 3,
   "metadata": {},
   "outputs": [
    {
     "data": {
      "text/plain": [
       "array([[[59.96, 53.95, 50.66],\n",
       "        [57.41, 53.28, 50.18],\n",
       "        [55.95, 53.11, 50.47]],\n",
       "\n",
       "       [[95.13, 92.31, 90.81],\n",
       "        [84.5 , 89.1 , 86.33],\n",
       "        [76.85, 78.66, 85.08]],\n",
       "\n",
       "       [[93.36, 84.3 , 82.97],\n",
       "        [83.34, 82.36, 81.27],\n",
       "        [79.71, 79.94, 80.71]]])"
      ]
     },
     "execution_count": 3,
     "metadata": {},
     "output_type": "execute_result"
    }
   ],
   "source": [
    "plt.clf()\n",
    "ax = sns.heatmap(visual_res[0], xticklabels=None, yticklabels=None, linewidth=0.5)#, vmin=50.0, vmax=0.6)\n",
    "plt.show()\n",
    "# plt.savefig(save_pth)"
   ]
  },
  {
   "cell_type": "code",
   "execution_count": null,
   "metadata": {},
   "outputs": [],
   "source": []
  }
 ],
 "metadata": {
  "kernelspec": {
   "display_name": "Python 3.7.5 64-bit ('py36': conda)",
   "language": "python",
   "name": "python37564bitpy36condaa3535759d8434161b590ac552184d5fa"
  },
  "language_info": {
   "codemirror_mode": {
    "name": "ipython",
    "version": 3
   },
   "file_extension": ".py",
   "mimetype": "text/x-python",
   "name": "python",
   "nbconvert_exporter": "python",
   "pygments_lexer": "ipython3",
   "version": "3.8.1"
  }
 },
 "nbformat": 4,
 "nbformat_minor": 4
}
